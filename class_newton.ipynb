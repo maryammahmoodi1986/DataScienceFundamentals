{
  "nbformat": 4,
  "nbformat_minor": 0,
  "metadata": {
    "colab": {
      "provenance": []
    },
    "kernelspec": {
      "name": "python3",
      "display_name": "Python 3"
    },
    "language_info": {
      "name": "python"
    }
  },
  "cells": [
    {
      "cell_type": "code",
      "execution_count": 23,
      "metadata": {
        "colab": {
          "base_uri": "https://localhost:8080/"
        },
        "id": "lTGfylGLrPAa",
        "outputId": "37b9c6ef-06c8-45a6-92ae-3589a029fdda"
      },
      "outputs": [
        {
          "output_type": "stream",
          "name": "stdout",
          "text": [
            "[-1.34766547e+07 -1.04045934e+23]\n"
          ]
        }
      ],
      "source": [
        "\n",
        "import numpy as np\n",
        "import pandas as pd\n",
        "from sklearn.decomposition import PCA\n",
        "from sklearn.preprocessing import StandardScaler\n",
        "\n",
        "class DozeModel:\n",
        "  def __init__(self, X, y, n=None, tolerance=1e-10, max_iter=50, use_pca=False, use_scaler=False):\n",
        "    # تبدیل DataFrame به numpy array در صورت نیاز\n",
        "    if isinstance(X, pd.DataFrame):\n",
        "      X = X.values\n",
        "    if isinstance(y, pd.Series):\n",
        "      y = y.values\n",
        "\n",
        "    self.X = X\n",
        "    self.y = y\n",
        "    self.n = np.ones(len(y)) if n is None else n  # اگر n داده نشود، مقدار پیشفرض 1 است\n",
        "    self.tolerance = tolerance\n",
        "    self.max_iter = max_iter\n",
        "    self.use_pca = use_pca\n",
        "    self.use_scaler = use_scaler\n",
        "\n",
        "    # اعمال StandardScaler در صورت نیاز\n",
        "    if self.use_scaler:\n",
        "      self.scaler = StandardScaler()\n",
        "      self.X = self.scaler.fit_transform(self.X)\n",
        "\n",
        "    # اعمال PCA در صورت نیاز\n",
        "    if self.use_pca:\n",
        "      self.pca = PCA()\n",
        "      self.X = self.pca.fit_transform(self.X)\n",
        "\n",
        "    self.b = np.zeros((self.X.shape[1], max_iter))\n",
        "    self.z = np.zeros((len(y), max_iter))\n",
        "    self.yhat = np.zeros((len(y), max_iter))\n",
        "    self.syhat = np.zeros((self.X.shape[1], max_iter))\n",
        "    self.kai2 = np.zeros(max_iter)\n",
        "    self.e = np.zeros((self.X.shape[1], max_iter))\n",
        "    self.sy = np.zeros(self.X.shape[1])\n",
        "    self.p = np.zeros((len(y), max_iter))\n",
        "    self.p[:, 0] = (y + 0.5) / (self.n + 0.5)\n",
        "    self.yhat[:, 0] = y\n",
        "\n",
        "  def fit(self):\n",
        "    for i in range(self.max_iter - 1):\n",
        "      self.p[:, i] = np.clip(self.p[:, i], self.tolerance, 1 - self.tolerance)\n",
        "      self.z[:, i] = np.log(self.p[:, i] / (1 - self.p[:, i])) + (self.y - self.n * self.p[:, i]) / (self.n * self.p[:, i] * (1 - self.p[:, i]))\n",
        "      W = np.diag(self.n * self.p[:, i] * (1 - self.p[:, i]))\n",
        "      self.b[:, i + 1] = np.linalg.solve(self.X.T @ W @ self.X, self.X.T @ W @ self.z[:, i])\n",
        "      xb = np.clip(self.X @ self.b[:, i + 1], -500, 500)\n",
        "      self.p[:, i + 1] = np.exp(xb) / (1 + np.exp(xb))\n",
        "      self.yhat[:, i + 1] = self.n * self.p[:, i + 1]\n",
        "      self.syhat[:, i + 1] = self.yhat[:, i + 1] @ self.X\n",
        "      self.sy = self.y @ self.X\n",
        "      self.e[:, i + 1] = self.syhat[:, i + 1] - self.sy\n",
        "      self.kai2[i + 1] = np.sum(((self.y - self.yhat[:, i + 1]) ** 2) / self.yhat[:, i + 1])\n",
        "    return {\n",
        "    'coefficients': self.b,\n",
        "    'predicted_probabilities': self.p,\n",
        "    'yhat': self.yhat,\n",
        "    'syhat': self.syhat,\n",
        "    'errors': self.e,\n",
        "    'kai2': self.kai2\n",
        "    }\n",
        "\n",
        "# استفاده از کلاس\n",
        "X = pd.DataFrame([[1, 2], [2, 3], [3, 4], [4, 5]])\n",
        "y = pd.Series([0, 1, 0, 1])\n",
        "model = DozeModel(X, y, tolerance=1e-8, max_iter=100, use_pca=True, use_scaler=True)\n",
        "results = model.fit()\n",
        "print(results['coefficients'][:,-1])\n"
      ]
    },
    {
      "cell_type": "code",
      "source": [
        "pip install ucimlrepo"
      ],
      "metadata": {
        "id": "1QJoWjXP3rKz"
      },
      "execution_count": null,
      "outputs": []
    },
    {
      "cell_type": "code",
      "source": [
        "from ucimlrepo import fetch_ucirepo\n",
        "\n",
        "# fetch dataset\n",
        "breast_cancer_wisconsin_diagnostic = fetch_ucirepo(id=17)\n",
        "\n",
        "# data (as pandas dataframes)\n",
        "X = breast_cancer_wisconsin_diagnostic.data.features\n",
        "y = breast_cancer_wisconsin_diagnostic.data.targets\n",
        "\n",
        "# تبدیل y به آرایه numpy و تبدیل مقادیر متنی به عددی\n",
        "y = y.replace({'M': 1, 'B': 0}).values.ravel()\n"
      ],
      "metadata": {
        "colab": {
          "base_uri": "https://localhost:8080/"
        },
        "id": "74ZKiMGb5kKs",
        "outputId": "feaca2f9-d774-4bd3-84c8-17bc53907764"
      },
      "execution_count": 25,
      "outputs": [
        {
          "output_type": "stream",
          "name": "stderr",
          "text": [
            "<ipython-input-25-3e07b9e95726>:11: FutureWarning: Downcasting behavior in `replace` is deprecated and will be removed in a future version. To retain the old behavior, explicitly call `result.infer_objects(copy=False)`. To opt-in to the future behavior, set `pd.set_option('future.no_silent_downcasting', True)`\n",
            "  y = y.replace({'M': 1, 'B': 0}).values.ravel()\n"
          ]
        }
      ]
    },
    {
      "cell_type": "code",
      "source": [
        "model = DozeModel(X, y, tolerance=1e-8, max_iter=100, use_pca=True, use_scaler=True)\n",
        "results = model.fit()\n",
        "print(results['coefficients'][:,-1])"
      ],
      "metadata": {
        "colab": {
          "base_uri": "https://localhost:8080/"
        },
        "id": "ALpUSV875rf-",
        "outputId": "7affd30a-98bd-4c65-af0e-ba13ddd21fea"
      },
      "execution_count": 26,
      "outputs": [
        {
          "output_type": "stream",
          "name": "stdout",
          "text": [
            "[ 2.22930580e+01 -1.55739057e+01 -5.08491945e+00  1.98367102e+00\n",
            "  1.29158855e+01 -4.92183833e+00  8.19428025e+00  8.59205094e+00\n",
            "  2.60861771e+01 -2.12423521e+01 -8.53843755e+00  9.10364248e+00\n",
            "  1.59204052e-01 -8.85217254e+00 -1.62798455e+01  7.89848668e+00\n",
            "  5.03571329e+01  5.72756047e+00  3.87820388e+01 -4.22166684e+01\n",
            "  2.84767027e+01  7.23647391e+00 -2.41982431e+01  3.20107097e+01\n",
            " -1.35348485e+01  2.91396040e+01 -1.51210246e+01  9.76137411e+01\n",
            "  2.05644379e+02 -3.31190353e+02]\n"
          ]
        }
      ]
    },
    {
      "cell_type": "code",
      "source": [],
      "metadata": {
        "id": "AjmsHkPb65Jg"
      },
      "execution_count": null,
      "outputs": []
    }
  ]
}