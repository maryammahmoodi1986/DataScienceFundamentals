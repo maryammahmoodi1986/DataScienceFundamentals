{
  "nbformat": 4,
  "nbformat_minor": 0,
  "metadata": {
    "colab": {
      "provenance": []
    },
    "kernelspec": {
      "name": "python3",
      "display_name": "Python 3"
    },
    "language_info": {
      "name": "python"
    }
  },
  "cells": [
    {
      "cell_type": "markdown",
      "source": [
        "<div dir=\"rtl\" align=\"right\">\n",
        "\n",
        "# اثبات توزیع خطای مدل در توزیع دوجملهای\n",
        "\n",
        "برای اثبات اینکه خطای مدل ($\\epsilon_i$) به صورت ($\\epsilon_i \\sim N\\left(0, \\frac{1}{n_i \\theta_i (1 - \\theta_i)}\\right)$) توزیع شده است، باید به توزیع دوجمله ای و نرمال توجه کنیم.\n",
        "## مراحل اثبات:\n",
        "\n",
        "فرض کنید ($Y_i$) تعداد نمونه های قابل قبول در ماه ($i$) باشد که از یک توزیع دوجمله ای با پارامترهای ($n_i$) (تعداد نمونه ها) و ($\\theta_i$) (احتمال موفقیت) پیروی میکند:\n",
        "$$\n",
        "Y_i \\sim \\text{Binomial}(n_i, \\theta_i)\n",
        "$$\n",
        "\n",
        "میانگین و واریانس توزیع دوجمله ای به صورت زیر است:\n",
        "$$\n",
        "E(Y_i) = n_i \\theta_i\n",
        "$$\n",
        "$$\n",
        "\\text{Var}(Y_i) = n_i \\theta_i (1 - \\theta_i)\n",
        "$$\n",
        "\n",
        "با توجه به قضیه حد مرکزی، اگر ($n_i$) بزرگ باشد، توزیع دوجملهای به توزیع نرمال نزدیک میشود. بنابراین، میتوانیم ($Y_i$) را به صورت نرمال تقریب بزنیم:\n",
        "$$\n",
        "Y_i \\approx N(n_i \\theta_i, n_i \\theta_i (1 - \\theta_i))\n",
        "$$\n",
        "\n",
        "خطای مدل ($\\epsilon_i$) به صورت تفاضل بین مقدار واقعی ($Y_i$) و مقدار پیشبینی شده ($\\hat{Y}_i$) تعریف میشود. در اینجا، مقدار پیشبینی شده برابر با میانگین توزیع دوجمله ای است:\n",
        "$$\n",
        "\\epsilon_i = Y_i - n_i \\theta_i\n",
        "$$\n",
        "\n",
        "با توجه به تقریب نرمال، توزیع خطای مدل ($\\epsilon_i$) به صورت زیر خواهد بود:\n",
        "$$\n",
        "\\epsilon_i \\sim N(0, n_i \\theta_i (1 - \\theta_i))\n",
        "$$\n",
        "\n",
        "برای نرمالسازی خطای مدل، آن را بر واریانس تقسیم میکنیم:\n",
        "$$\n",
        "\\epsilon_i \\sim N\\left(0, \\frac{1}{n_i \\theta_i (1 - \\theta_i)}\\right)\n",
        "$$\n"
      ],
      "metadata": {
        "id": "itaFm4gKGUwT"
      }
    },
    {
      "cell_type": "code",
      "source": [],
      "metadata": {
        "id": "0CU6hwLue9lw"
      },
      "execution_count": null,
      "outputs": []
    }
  ]
}